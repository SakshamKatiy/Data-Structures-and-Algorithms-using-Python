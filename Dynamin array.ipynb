{
 "cells": [
  {
   "cell_type": "code",
   "execution_count": 85,
   "id": "49bbe136-97be-4a30-b06a-e5a69b02c515",
   "metadata": {},
   "outputs": [],
   "source": [
    "import ctypes\n",
    "class MeraList:\n",
    "\n",
    "    def __init__(self):\n",
    "        self.size = 1\n",
    "        self.n = 0\n",
    "        #create a C type array with size = self.size\n",
    "        self.A = self.__make_array(self.size)\n",
    "    def __len__(self):\n",
    "        return self.n\n",
    "\n",
    "    def __str__(self):\n",
    "        result = ''\n",
    "        for i in range(self.n):\n",
    "            result = result + str(self.A[i]) + ','\n",
    "        return '[' + result[:-1] + ']'\n",
    "\n",
    "    #indexing\n",
    "    def __getitem__(self,index):\n",
    "        if 0<= index < self.n:\n",
    "            return self.A[index]\n",
    "        else:\n",
    "            return 'Index Error - Index out of range'\n",
    "    \n",
    "    def append(self,item):\n",
    "        if self.n == self.size:\n",
    "            #resize\n",
    "            self.__resize(self.size*2)\n",
    "            #append\n",
    "        self.A[self.n]=item\n",
    "        self.n = self.n+1\n",
    "\n",
    "    def pop(self):\n",
    "        if self.n == 0:\n",
    "            return 'Empty list'\n",
    "        print(self.A[self.n-1])\n",
    "        self.n = self.n -1\n",
    "\n",
    "    def clear(self):\n",
    "        self.n = 0\n",
    "        self.size = 1\n",
    "\n",
    "    def find(self,a):\n",
    "        for i in range(self.n):\n",
    "            if self.A[i] ==a:\n",
    "                return i\n",
    "        return 'Value Error = not in list'\n",
    "        \n",
    "    def insert(self,pos,item):\n",
    "        if self.n == self.size:\n",
    "            self.__resize(self.size*2)\n",
    "        for i in range(self.n,pos,-1):\n",
    "            self.A[i] = self.A[i-1]\n",
    "        self.A[pos] = item\n",
    "        self.n = self.n + 1\n",
    "\n",
    "    def remove(self,item):\n",
    "        pos = self.find(item)\n",
    "        if type(pos) == int:\n",
    "            self.__delitem__(pos)\n",
    "        else:\n",
    "            return pos\n",
    "\n",
    "    def __delitem__(self,pos):\n",
    "        if 0<=pos<self.n:\n",
    "            for i in range(pos,self.n-1):\n",
    "                self.A[i] = self.A[i+1]\n",
    "            self.n = self.n-1\n",
    "        \n",
    "    def __resize(self,new_capacity):\n",
    "        #create a new array with new capacity\n",
    "        B = self.__make_array(new_capacity)\n",
    "        self.size = new_capacity\n",
    "        #copy the content of A to B\n",
    "        for i in range(self.n):\n",
    "            B[i] = self.A[i]\n",
    "            #reassign A\n",
    "        self.A = B\n",
    "\n",
    "    def __make_array(self,capacity):\n",
    "        #creates a C type array(static,referential) with size capacity\n",
    "        return(capacity*ctypes.py_object)()"
   ]
  },
  {
   "cell_type": "code",
   "execution_count": 86,
   "id": "ccca1e7e-eb74-4a22-9aea-ac9db03dafb6",
   "metadata": {},
   "outputs": [],
   "source": [
    "L = MeraList()"
   ]
  },
  {
   "cell_type": "code",
   "execution_count": 87,
   "id": "93f3d252-a7b9-4bc4-a82d-a1620aa78992",
   "metadata": {},
   "outputs": [],
   "source": [
    "L.append('Saksham')\n",
    "L.append(3.2)\n",
    "L.append(True)\n",
    "L.append(5)"
   ]
  },
  {
   "cell_type": "code",
   "execution_count": 88,
   "id": "627ca5af-78d8-4339-9951-c8be493218a8",
   "metadata": {},
   "outputs": [
    {
     "data": {
      "text/plain": [
       "4"
      ]
     },
     "execution_count": 88,
     "metadata": {},
     "output_type": "execute_result"
    }
   ],
   "source": [
    "len(L)"
   ]
  },
  {
   "cell_type": "code",
   "execution_count": 89,
   "id": "63728c1c-ef3c-4de4-aeb4-d05b1687fbfa",
   "metadata": {},
   "outputs": [
    {
     "name": "stdout",
     "output_type": "stream",
     "text": [
      "[Saksham,3.2,True,5]\n"
     ]
    }
   ],
   "source": [
    "print(L)"
   ]
  },
  {
   "cell_type": "code",
   "execution_count": 90,
   "id": "34827332-2614-4f04-8fae-73e037f2da41",
   "metadata": {},
   "outputs": [
    {
     "data": {
      "text/plain": [
       "2"
      ]
     },
     "execution_count": 90,
     "metadata": {},
     "output_type": "execute_result"
    }
   ],
   "source": [
    "L.find(True)"
   ]
  },
  {
   "cell_type": "code",
   "execution_count": 91,
   "id": "f0b27cab-5471-4cb6-abaf-68c6c9d9f0e5",
   "metadata": {},
   "outputs": [],
   "source": [
    "L.insert(0,'tomato')"
   ]
  },
  {
   "cell_type": "code",
   "execution_count": 96,
   "id": "6b557860-4eab-4d85-81ef-29cee3e209bd",
   "metadata": {},
   "outputs": [
    {
     "name": "stdout",
     "output_type": "stream",
     "text": [
      "[Saksham,True,5]\n"
     ]
    }
   ],
   "source": [
    "print(L)"
   ]
  },
  {
   "cell_type": "code",
   "execution_count": 93,
   "id": "65dba151-5a59-453f-9912-b7c36ac6add5",
   "metadata": {},
   "outputs": [],
   "source": [
    "del L[0]"
   ]
  },
  {
   "cell_type": "code",
   "execution_count": 95,
   "id": "2701925a-4024-4a85-b6ea-16189ab872ae",
   "metadata": {},
   "outputs": [],
   "source": [
    "L.remove(3.2)"
   ]
  },
  {
   "cell_type": "markdown",
   "id": "1ca4438f-f1ee-4271-8400-a554df9dc2dd",
   "metadata": {},
   "source": [
    "sort/min/max/sum\n",
    "extend\n",
    "negative indexing\n",
    "slicing\n",
    "merge"
   ]
  },
  {
   "cell_type": "code",
   "execution_count": null,
   "id": "c37afd39-2283-4bf0-9597-5ec7c2b40fe1",
   "metadata": {},
   "outputs": [],
   "source": []
  }
 ],
 "metadata": {
  "kernelspec": {
   "display_name": "Python 3 (ipykernel)",
   "language": "python",
   "name": "python3"
  },
  "language_info": {
   "codemirror_mode": {
    "name": "ipython",
    "version": 3
   },
   "file_extension": ".py",
   "mimetype": "text/x-python",
   "name": "python",
   "nbconvert_exporter": "python",
   "pygments_lexer": "ipython3",
   "version": "3.10.11"
  }
 },
 "nbformat": 4,
 "nbformat_minor": 5
}
